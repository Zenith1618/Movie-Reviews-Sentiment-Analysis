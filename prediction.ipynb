{
 "cells": [
  {
   "cell_type": "markdown",
   "metadata": {},
   "source": [
    "### Import Libraries"
   ]
  },
  {
   "cell_type": "code",
   "execution_count": 2,
   "metadata": {},
   "outputs": [],
   "source": [
    "import numpy as np\n",
    "import tensorflow as tf\n",
    "from tensorflow.keras.datasets import imdb\n",
    "from tensorflow.keras.preprocessing import sequence\n",
    "from tensorflow.keras.models import load_model"
   ]
  },
  {
   "cell_type": "markdown",
   "metadata": {},
   "source": [
    "### Get Word Index"
   ]
  },
  {
   "cell_type": "code",
   "execution_count": 3,
   "metadata": {},
   "outputs": [],
   "source": [
    "word_index = imdb.get_word_index()\n",
    "reverse_word_index = {value: key for key, value in word_index.items()}"
   ]
  },
  {
   "cell_type": "markdown",
   "metadata": {},
   "source": [
    "### Load the model"
   ]
  },
  {
   "cell_type": "code",
   "execution_count": 4,
   "metadata": {},
   "outputs": [
    {
     "name": "stderr",
     "output_type": "stream",
     "text": [
      "WARNING:absl:Compiled the loaded model, but the compiled metrics have yet to be built. `model.compile_metrics` will be empty until you train or evaluate the model.\n"
     ]
    },
    {
     "data": {
      "text/html": [
       "<pre style=\"white-space:pre;overflow-x:auto;line-height:normal;font-family:Menlo,'DejaVu Sans Mono',consolas,'Courier New',monospace\"><span style=\"font-weight: bold\">Model: \"sequential\"</span>\n",
       "</pre>\n"
      ],
      "text/plain": [
       "\u001b[1mModel: \"sequential\"\u001b[0m\n"
      ]
     },
     "metadata": {},
     "output_type": "display_data"
    },
    {
     "data": {
      "text/html": [
       "<pre style=\"white-space:pre;overflow-x:auto;line-height:normal;font-family:Menlo,'DejaVu Sans Mono',consolas,'Courier New',monospace\">┏━━━━━━━━━━━━━━━━━━━━━━━━━━━━━━━━━┳━━━━━━━━━━━━━━━━━━━━━━━━┳━━━━━━━━━━━━━━━┓\n",
       "┃<span style=\"font-weight: bold\"> Layer (type)                    </span>┃<span style=\"font-weight: bold\"> Output Shape           </span>┃<span style=\"font-weight: bold\">       Param # </span>┃\n",
       "┡━━━━━━━━━━━━━━━━━━━━━━━━━━━━━━━━━╇━━━━━━━━━━━━━━━━━━━━━━━━╇━━━━━━━━━━━━━━━┩\n",
       "│ embedding (<span style=\"color: #0087ff; text-decoration-color: #0087ff\">Embedding</span>)           │ (<span style=\"color: #00af00; text-decoration-color: #00af00\">32</span>, <span style=\"color: #00af00; text-decoration-color: #00af00\">500</span>, <span style=\"color: #00af00; text-decoration-color: #00af00\">128</span>)         │     <span style=\"color: #00af00; text-decoration-color: #00af00\">1,280,000</span> │\n",
       "├─────────────────────────────────┼────────────────────────┼───────────────┤\n",
       "│ simple_rnn (<span style=\"color: #0087ff; text-decoration-color: #0087ff\">SimpleRNN</span>)          │ (<span style=\"color: #00af00; text-decoration-color: #00af00\">32</span>, <span style=\"color: #00af00; text-decoration-color: #00af00\">128</span>)              │        <span style=\"color: #00af00; text-decoration-color: #00af00\">32,896</span> │\n",
       "├─────────────────────────────────┼────────────────────────┼───────────────┤\n",
       "│ dense (<span style=\"color: #0087ff; text-decoration-color: #0087ff\">Dense</span>)                   │ (<span style=\"color: #00af00; text-decoration-color: #00af00\">32</span>, <span style=\"color: #00af00; text-decoration-color: #00af00\">1</span>)                │           <span style=\"color: #00af00; text-decoration-color: #00af00\">129</span> │\n",
       "└─────────────────────────────────┴────────────────────────┴───────────────┘\n",
       "</pre>\n"
      ],
      "text/plain": [
       "┏━━━━━━━━━━━━━━━━━━━━━━━━━━━━━━━━━┳━━━━━━━━━━━━━━━━━━━━━━━━┳━━━━━━━━━━━━━━━┓\n",
       "┃\u001b[1m \u001b[0m\u001b[1mLayer (type)                   \u001b[0m\u001b[1m \u001b[0m┃\u001b[1m \u001b[0m\u001b[1mOutput Shape          \u001b[0m\u001b[1m \u001b[0m┃\u001b[1m \u001b[0m\u001b[1m      Param #\u001b[0m\u001b[1m \u001b[0m┃\n",
       "┡━━━━━━━━━━━━━━━━━━━━━━━━━━━━━━━━━╇━━━━━━━━━━━━━━━━━━━━━━━━╇━━━━━━━━━━━━━━━┩\n",
       "│ embedding (\u001b[38;5;33mEmbedding\u001b[0m)           │ (\u001b[38;5;34m32\u001b[0m, \u001b[38;5;34m500\u001b[0m, \u001b[38;5;34m128\u001b[0m)         │     \u001b[38;5;34m1,280,000\u001b[0m │\n",
       "├─────────────────────────────────┼────────────────────────┼───────────────┤\n",
       "│ simple_rnn (\u001b[38;5;33mSimpleRNN\u001b[0m)          │ (\u001b[38;5;34m32\u001b[0m, \u001b[38;5;34m128\u001b[0m)              │        \u001b[38;5;34m32,896\u001b[0m │\n",
       "├─────────────────────────────────┼────────────────────────┼───────────────┤\n",
       "│ dense (\u001b[38;5;33mDense\u001b[0m)                   │ (\u001b[38;5;34m32\u001b[0m, \u001b[38;5;34m1\u001b[0m)                │           \u001b[38;5;34m129\u001b[0m │\n",
       "└─────────────────────────────────┴────────────────────────┴───────────────┘\n"
      ]
     },
     "metadata": {},
     "output_type": "display_data"
    },
    {
     "data": {
      "text/html": [
       "<pre style=\"white-space:pre;overflow-x:auto;line-height:normal;font-family:Menlo,'DejaVu Sans Mono',consolas,'Courier New',monospace\"><span style=\"font-weight: bold\"> Total params: </span><span style=\"color: #00af00; text-decoration-color: #00af00\">1,313,027</span> (5.01 MB)\n",
       "</pre>\n"
      ],
      "text/plain": [
       "\u001b[1m Total params: \u001b[0m\u001b[38;5;34m1,313,027\u001b[0m (5.01 MB)\n"
      ]
     },
     "metadata": {},
     "output_type": "display_data"
    },
    {
     "data": {
      "text/html": [
       "<pre style=\"white-space:pre;overflow-x:auto;line-height:normal;font-family:Menlo,'DejaVu Sans Mono',consolas,'Courier New',monospace\"><span style=\"font-weight: bold\"> Trainable params: </span><span style=\"color: #00af00; text-decoration-color: #00af00\">1,313,025</span> (5.01 MB)\n",
       "</pre>\n"
      ],
      "text/plain": [
       "\u001b[1m Trainable params: \u001b[0m\u001b[38;5;34m1,313,025\u001b[0m (5.01 MB)\n"
      ]
     },
     "metadata": {},
     "output_type": "display_data"
    },
    {
     "data": {
      "text/html": [
       "<pre style=\"white-space:pre;overflow-x:auto;line-height:normal;font-family:Menlo,'DejaVu Sans Mono',consolas,'Courier New',monospace\"><span style=\"font-weight: bold\"> Non-trainable params: </span><span style=\"color: #00af00; text-decoration-color: #00af00\">0</span> (0.00 B)\n",
       "</pre>\n"
      ],
      "text/plain": [
       "\u001b[1m Non-trainable params: \u001b[0m\u001b[38;5;34m0\u001b[0m (0.00 B)\n"
      ]
     },
     "metadata": {},
     "output_type": "display_data"
    },
    {
     "data": {
      "text/html": [
       "<pre style=\"white-space:pre;overflow-x:auto;line-height:normal;font-family:Menlo,'DejaVu Sans Mono',consolas,'Courier New',monospace\"><span style=\"font-weight: bold\"> Optimizer params: </span><span style=\"color: #00af00; text-decoration-color: #00af00\">2</span> (12.00 B)\n",
       "</pre>\n"
      ],
      "text/plain": [
       "\u001b[1m Optimizer params: \u001b[0m\u001b[38;5;34m2\u001b[0m (12.00 B)\n"
      ]
     },
     "metadata": {},
     "output_type": "display_data"
    }
   ],
   "source": [
    "model = load_model('rnn_imdb.h5')\n",
    "model.summary()"
   ]
  },
  {
   "cell_type": "markdown",
   "metadata": {},
   "source": [
    "### Get Weights"
   ]
  },
  {
   "cell_type": "code",
   "execution_count": 5,
   "metadata": {},
   "outputs": [
    {
     "data": {
      "text/plain": [
       "[array([[-0.50137454,  0.6551071 , -0.46513563, ..., -0.41173166,\n",
       "         -0.5317292 ,  0.26432866],\n",
       "        [-0.05335426,  0.01222924,  0.01519251, ...,  0.04995792,\n",
       "          0.04563382,  0.04571608],\n",
       "        [ 0.04176229,  0.00830055,  0.02181528, ...,  0.05685773,\n",
       "         -0.04300486, -0.00751681],\n",
       "        ...,\n",
       "        [-0.03862481,  0.04468941, -0.00078205, ...,  0.06005523,\n",
       "         -0.06757455, -0.01318825],\n",
       "        [-0.0445128 ,  0.06541613, -0.12471473, ...,  0.08699155,\n",
       "          0.03251255,  0.05121991],\n",
       "        [ 0.05216225, -0.03234597,  0.01561024, ..., -0.01214186,\n",
       "         -0.00413039,  0.07791319]], dtype=float32),\n",
       " array([[ 0.09980207,  0.1055648 , -0.07121948, ...,  0.04287599,\n",
       "          0.12683985,  0.02182681],\n",
       "        [-0.14293674, -0.13245061,  0.03310765, ..., -0.03986729,\n",
       "          0.08869464, -0.00816825],\n",
       "        [ 0.0748801 , -0.07982913, -0.05240515, ..., -0.11527366,\n",
       "         -0.01369597,  0.0066742 ],\n",
       "        ...,\n",
       "        [ 0.12753345, -0.12619232, -0.15900095, ...,  0.06090515,\n",
       "          0.13927545, -0.11349966],\n",
       "        [ 0.08957808, -0.1353089 ,  0.11202435, ..., -0.04019737,\n",
       "         -0.02066047, -0.02629005],\n",
       "        [-0.03869653, -0.02006011,  0.04683854, ..., -0.06385611,\n",
       "         -0.00568403, -0.0340008 ]], dtype=float32),\n",
       " array([[-0.17896856,  0.06849493,  0.02268305, ..., -0.04980675,\n",
       "          0.08947372,  0.11172879],\n",
       "        [ 0.0417032 ,  0.0382628 , -0.10054449, ...,  0.03040094,\n",
       "          0.07087427,  0.03039555],\n",
       "        [ 0.09349914, -0.02833001, -0.11553139, ..., -0.04332732,\n",
       "         -0.02339928,  0.13565202],\n",
       "        ...,\n",
       "        [ 0.05532097, -0.1026257 ,  0.0171047 , ..., -0.05591172,\n",
       "          0.02139037,  0.05868132],\n",
       "        [-0.10441937,  0.00586574, -0.31444675, ...,  0.2586424 ,\n",
       "          0.09842335,  0.09834407],\n",
       "        [-0.14151417,  0.03824596, -0.03260366, ...,  0.09661231,\n",
       "          0.10590011,  0.06651152]], dtype=float32),\n",
       " array([ 2.76571000e-03, -1.64756905e-02, -3.46937999e-02,  1.49709862e-02,\n",
       "        -3.65082882e-02, -1.93892214e-02, -4.12107259e-02,  3.53257135e-02,\n",
       "        -7.92444125e-03,  1.13503840e-02, -3.85204814e-02,  4.65374514e-02,\n",
       "        -3.48884314e-02, -2.98800152e-02, -7.70522282e-03,  2.85874791e-02,\n",
       "         1.98879652e-02,  2.81365030e-02, -4.06791121e-02,  2.47610416e-02,\n",
       "        -1.07744075e-02, -2.08024029e-02,  4.03971784e-02,  1.10513261e-02,\n",
       "        -1.75366923e-02, -3.32843550e-02,  7.23489653e-03,  1.53282899e-02,\n",
       "         1.15049705e-02,  9.83482227e-04,  3.57953608e-02, -2.51859538e-02,\n",
       "        -1.39684407e-02, -3.65531594e-02, -4.10960391e-02,  2.50879079e-02,\n",
       "         1.27744302e-02, -1.58594474e-02,  2.31358316e-02, -3.44584063e-02,\n",
       "        -3.16500030e-02, -3.07620782e-02,  2.83724871e-02,  2.55669467e-02,\n",
       "         1.88450031e-02, -2.65869070e-02,  1.69147532e-02, -1.48357949e-05,\n",
       "        -2.68414076e-02,  1.40476311e-02,  2.90387552e-02, -3.39959227e-02,\n",
       "         9.73183941e-03,  2.53898967e-02,  2.21774206e-02, -2.16463506e-02,\n",
       "         6.01334451e-03,  2.86379717e-02,  3.97178046e-02,  1.37309460e-02,\n",
       "         2.52974480e-02, -6.81223720e-03,  4.26263399e-02, -4.16924171e-02,\n",
       "         1.94417164e-02, -2.53681373e-02, -1.90275197e-03, -5.98896015e-03,\n",
       "        -3.72892693e-02,  5.55335369e-04, -1.69748776e-02, -3.75773795e-02,\n",
       "         7.34558189e-03, -1.41813364e-02, -1.30622704e-02,  3.39423753e-02,\n",
       "        -3.31728756e-02,  1.26852756e-02,  2.32926682e-02, -1.81623939e-02,\n",
       "         2.86408253e-02,  2.10506618e-02, -1.10917389e-02,  1.49698555e-02,\n",
       "        -3.41720618e-02, -4.25591171e-02,  5.66554768e-03, -3.88838574e-02,\n",
       "         1.25913387e-02, -8.08133278e-04,  2.68342346e-02, -2.73482315e-02,\n",
       "        -2.79177446e-02, -2.45700162e-02,  3.67725231e-02, -2.04567295e-02,\n",
       "         6.36279164e-03, -1.87598858e-02,  8.19352176e-03,  4.14229222e-02,\n",
       "        -6.61422405e-03, -1.97854619e-02, -3.11572347e-02,  3.18601616e-02,\n",
       "        -1.92309581e-02, -4.14360361e-03, -1.13428698e-03, -1.47910621e-02,\n",
       "         2.42548138e-02, -2.91086752e-02,  2.19071321e-02,  7.12711876e-03,\n",
       "         3.23735066e-02, -1.97732858e-02,  7.94505049e-03,  1.61868427e-02,\n",
       "        -2.34709196e-02,  2.29631048e-02,  4.64248732e-02, -6.25988692e-02,\n",
       "         3.32618393e-02, -5.09934723e-02, -3.59187387e-02, -1.50157535e-03,\n",
       "        -1.16176195e-02, -9.32829361e-03,  5.55746928e-02,  1.81104839e-02],\n",
       "       dtype=float32),\n",
       " array([[ 0.18971819],\n",
       "        [ 0.02408273],\n",
       "        [-0.15188618],\n",
       "        [-0.17213534],\n",
       "        [-0.1373921 ],\n",
       "        [-0.44662753],\n",
       "        [-0.01951269],\n",
       "        [ 0.10302024],\n",
       "        [-0.06725486],\n",
       "        [ 0.03219027],\n",
       "        [ 0.06427915],\n",
       "        [ 0.02423373],\n",
       "        [-0.06108501],\n",
       "        [-0.1041097 ],\n",
       "        [ 0.13545549],\n",
       "        [-0.12628843],\n",
       "        [-0.15994163],\n",
       "        [-1.2359674 ],\n",
       "        [-0.21758863],\n",
       "        [-0.20840488],\n",
       "        [-0.11385556],\n",
       "        [-0.50443476],\n",
       "        [-0.11214177],\n",
       "        [ 0.15208785],\n",
       "        [-0.5585503 ],\n",
       "        [-0.12311355],\n",
       "        [ 0.1488797 ],\n",
       "        [-0.18041846],\n",
       "        [ 0.02717396],\n",
       "        [ 0.25957987],\n",
       "        [-0.07111222],\n",
       "        [ 0.22337292],\n",
       "        [-0.29290342],\n",
       "        [-0.19915295],\n",
       "        [ 0.1876462 ],\n",
       "        [-0.19271643],\n",
       "        [-0.20025624],\n",
       "        [-0.02339572],\n",
       "        [-0.08926767],\n",
       "        [-0.0348745 ],\n",
       "        [ 0.08224192],\n",
       "        [-0.22157273],\n",
       "        [-0.10851368],\n",
       "        [-0.01116696],\n",
       "        [ 0.15144522],\n",
       "        [ 0.00335989],\n",
       "        [-0.19385248],\n",
       "        [ 0.03648406],\n",
       "        [ 0.17058782],\n",
       "        [ 0.15528624],\n",
       "        [-0.05363333],\n",
       "        [-0.4860788 ],\n",
       "        [-0.07010209],\n",
       "        [-0.00509249],\n",
       "        [-0.08023387],\n",
       "        [ 0.09518448],\n",
       "        [-0.15528178],\n",
       "        [ 0.09203404],\n",
       "        [ 0.16225874],\n",
       "        [-0.21484351],\n",
       "        [ 0.11695617],\n",
       "        [-0.07781064],\n",
       "        [ 0.10350267],\n",
       "        [-0.1740449 ],\n",
       "        [-0.19940507],\n",
       "        [ 0.3683524 ],\n",
       "        [-0.4037459 ],\n",
       "        [-0.04878769],\n",
       "        [-0.20834228],\n",
       "        [ 0.58786017],\n",
       "        [ 0.7851047 ],\n",
       "        [ 0.11799689],\n",
       "        [-0.18141578],\n",
       "        [-0.05694437],\n",
       "        [-0.12604736],\n",
       "        [-0.03946554],\n",
       "        [-1.815015  ],\n",
       "        [ 0.0345987 ],\n",
       "        [-0.1307459 ],\n",
       "        [ 0.0182231 ],\n",
       "        [ 0.5280241 ],\n",
       "        [ 0.52563834],\n",
       "        [ 0.36705014],\n",
       "        [ 0.09085927],\n",
       "        [ 0.128392  ],\n",
       "        [-0.08812723],\n",
       "        [ 0.17574824],\n",
       "        [ 0.11555969],\n",
       "        [-0.1945858 ],\n",
       "        [ 0.2002131 ],\n",
       "        [-0.09308115],\n",
       "        [ 0.7660685 ],\n",
       "        [ 0.07916311],\n",
       "        [-0.20378108],\n",
       "        [-0.19115545],\n",
       "        [-0.20687638],\n",
       "        [-0.35731715],\n",
       "        [ 0.64778745],\n",
       "        [-0.15867919],\n",
       "        [ 0.10339409],\n",
       "        [ 0.09315891],\n",
       "        [-0.09358191],\n",
       "        [ 0.05901755],\n",
       "        [-0.17131591],\n",
       "        [ 0.16175541],\n",
       "        [ 0.07165074],\n",
       "        [ 0.11955578],\n",
       "        [-0.09217531],\n",
       "        [ 0.10999238],\n",
       "        [ 0.16477785],\n",
       "        [ 0.10850971],\n",
       "        [-0.13074304],\n",
       "        [ 0.06822094],\n",
       "        [-0.00845639],\n",
       "        [-0.02591832],\n",
       "        [-0.23399557],\n",
       "        [-0.22860639],\n",
       "        [-0.13640763],\n",
       "        [ 0.1648015 ],\n",
       "        [ 0.08016825],\n",
       "        [-0.25672218],\n",
       "        [-0.11430465],\n",
       "        [-0.04109967],\n",
       "        [ 0.19089912],\n",
       "        [ 0.2033631 ],\n",
       "        [-0.19425385],\n",
       "        [ 0.01799663],\n",
       "        [-0.13403973]], dtype=float32),\n",
       " array([1.1618786], dtype=float32)]"
      ]
     },
     "execution_count": 5,
     "metadata": {},
     "output_type": "execute_result"
    }
   ],
   "source": [
    "model.get_weights()"
   ]
  },
  {
   "cell_type": "markdown",
   "metadata": {},
   "source": [
    "### Helper Functions"
   ]
  },
  {
   "cell_type": "code",
   "execution_count": 9,
   "metadata": {},
   "outputs": [],
   "source": [
    "# Function to preprocess user input\n",
    "def preprocess_text(text):\n",
    "    words = text.lower().split()\n",
    "    encoded_review = [word_index.get(word, 2) + 3 for word in words]        \n",
    "    #2 is done for unknown, and +3 is due to the encoding done in the dataset as 0,1,2 index might have special tokens\n",
    "\n",
    "    padded_review = sequence.pad_sequences([encoded_review], maxlen=500)\n",
    "    return padded_review"
   ]
  },
  {
   "cell_type": "markdown",
   "metadata": {},
   "source": [
    "### Prediction Function"
   ]
  },
  {
   "cell_type": "code",
   "execution_count": 10,
   "metadata": {},
   "outputs": [],
   "source": [
    "def predict_sentiment(review):\n",
    "    preprocessed_input = preprocess_text(review)\n",
    "\n",
    "    prediction = model.predict(preprocessed_input)\n",
    "\n",
    "    sentiment = 'Positive' if prediction[0][0] > 0.5 else 'Negative'\n",
    "\n",
    "    return sentiment, prediction[0][0]"
   ]
  },
  {
   "cell_type": "code",
   "execution_count": 11,
   "metadata": {},
   "outputs": [
    {
     "name": "stdout",
     "output_type": "stream",
     "text": [
      "\u001b[1m1/1\u001b[0m \u001b[32m━━━━━━━━━━━━━━━━━━━━\u001b[0m\u001b[37m\u001b[0m \u001b[1m0s\u001b[0m 32ms/step\n",
      "Review: This movie was fantastic! The acting was great and the plot was thrilling.\n",
      "Sentiment: Positive\n",
      "Prediction Score: 0.8535422086715698\n"
     ]
    }
   ],
   "source": [
    "# Example review for prediction\n",
    "example_review = \"This movie was fantastic! The acting was great and the plot was thrilling.\"\n",
    "\n",
    "sentiment,score=predict_sentiment(example_review)\n",
    "\n",
    "print(f'Review: {example_review}')\n",
    "print(f'Sentiment: {sentiment}')\n",
    "print(f'Prediction Score: {score}')"
   ]
  },
  {
   "cell_type": "code",
   "execution_count": null,
   "metadata": {},
   "outputs": [],
   "source": []
  }
 ],
 "metadata": {
  "kernelspec": {
   "display_name": "Python 3",
   "language": "python",
   "name": "python3"
  },
  "language_info": {
   "codemirror_mode": {
    "name": "ipython",
    "version": 3
   },
   "file_extension": ".py",
   "mimetype": "text/x-python",
   "name": "python",
   "nbconvert_exporter": "python",
   "pygments_lexer": "ipython3",
   "version": "3.12.4"
  }
 },
 "nbformat": 4,
 "nbformat_minor": 2
}
